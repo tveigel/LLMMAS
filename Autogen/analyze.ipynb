{
 "cells": [
  {
   "cell_type": "code",
   "execution_count": 1,
   "metadata": {},
   "outputs": [
    {
     "name": "stderr",
     "output_type": "stream",
     "text": [
      "ERROR: Could not find a version that satisfies the requirement sqlite3 (from versions: none)\n",
      "ERROR: No matching distribution found for sqlite3\n"
     ]
    },
    {
     "name": "stdout",
     "output_type": "stream",
     "text": [
      "Collecting pandas\n",
      "  Downloading pandas-2.2.0-cp311-cp311-win_amd64.whl.metadata (19 kB)\n",
      "Requirement already satisfied: numpy<2,>=1.23.2 in c:\\users\\timveigel\\appdata\\local\\anaconda3\\envs\\ag_studio\\lib\\site-packages (from pandas) (1.26.3)\n",
      "Requirement already satisfied: python-dateutil>=2.8.2 in c:\\users\\timveigel\\appdata\\local\\anaconda3\\envs\\ag_studio\\lib\\site-packages (from pandas) (2.8.2)\n",
      "Collecting pytz>=2020.1 (from pandas)\n",
      "  Downloading pytz-2023.4-py2.py3-none-any.whl.metadata (22 kB)\n",
      "Collecting tzdata>=2022.7 (from pandas)\n",
      "  Downloading tzdata-2023.4-py2.py3-none-any.whl.metadata (1.4 kB)\n",
      "Requirement already satisfied: six>=1.5 in c:\\users\\timveigel\\appdata\\local\\anaconda3\\envs\\ag_studio\\lib\\site-packages (from python-dateutil>=2.8.2->pandas) (1.16.0)\n",
      "Downloading pandas-2.2.0-cp311-cp311-win_amd64.whl (11.6 MB)\n",
      "   ---------------------------------------- 0.0/11.6 MB ? eta -:--:--\n",
      "   ---------------------------------------- 0.0/11.6 MB 667.8 kB/s eta 0:00:18\n",
      "   - -------------------------------------- 0.5/11.6 MB 5.6 MB/s eta 0:00:02\n",
      "   ---- ----------------------------------- 1.4/11.6 MB 9.9 MB/s eta 0:00:02\n",
      "   ---------- ----------------------------- 2.9/11.6 MB 15.6 MB/s eta 0:00:01\n",
      "   -------------- ------------------------- 4.3/11.6 MB 18.5 MB/s eta 0:00:01\n",
      "   ------------------ --------------------- 5.4/11.6 MB 19.3 MB/s eta 0:00:01\n",
      "   ------------------------- -------------- 7.4/11.6 MB 23.8 MB/s eta 0:00:01\n",
      "   ------------------------------ --------- 9.0/11.6 MB 23.9 MB/s eta 0:00:01\n",
      "   -------------------------------- ------- 9.4/11.6 MB 24.2 MB/s eta 0:00:01\n",
      "   --------------------------------- ------ 9.8/11.6 MB 21.7 MB/s eta 0:00:01\n",
      "   ---------------------------------------  11.6/11.6 MB 29.7 MB/s eta 0:00:01\n",
      "   ---------------------------------------  11.6/11.6 MB 29.7 MB/s eta 0:00:01\n",
      "   ---------------------------------------  11.6/11.6 MB 29.7 MB/s eta 0:00:01\n",
      "   ---------------------------------------- 11.6/11.6 MB 21.8 MB/s eta 0:00:00\n",
      "Downloading pytz-2023.4-py2.py3-none-any.whl (506 kB)\n",
      "   ---------------------------------------- 0.0/506.5 kB ? eta -:--:--\n",
      "   --------------------------------------- 506.5/506.5 kB 16.0 MB/s eta 0:00:00\n",
      "Downloading tzdata-2023.4-py2.py3-none-any.whl (346 kB)\n",
      "   ---------------------------------------- 0.0/346.6 kB ? eta -:--:--\n",
      "   --------------------------------------- 346.6/346.6 kB 10.5 MB/s eta 0:00:00\n",
      "Installing collected packages: pytz, tzdata, pandas\n",
      "Successfully installed pandas-2.2.0 pytz-2023.4 tzdata-2023.4\n"
     ]
    }
   ],
   "source": [
    "!pip install pandas"
   ]
  },
  {
   "cell_type": "code",
   "execution_count": 2,
   "metadata": {},
   "outputs": [
    {
     "name": "stderr",
     "output_type": "stream",
     "text": [
      "C:\\Users\\timveigel\\AppData\\Local\\Temp\\ipykernel_5844\\1229511693.py:2: DeprecationWarning: \n",
      "Pyarrow will become a required dependency of pandas in the next major release of pandas (pandas 3.0),\n",
      "(to allow more performant data types, such as the Arrow string type, and better interoperability with other libraries)\n",
      "but was not found to be installed on your system.\n",
      "If this would cause problems for you,\n",
      "please provide us feedback at https://github.com/pandas-dev/pandas/issues/54466\n",
      "        \n",
      "  import pandas as pd\n"
     ]
    }
   ],
   "source": [
    "import sqlite3\n",
    "import pandas as pd"
   ]
  },
  {
   "cell_type": "code",
   "execution_count": 7,
   "metadata": {},
   "outputs": [],
   "source": [
    "conn = sqlite3.connect('.cache\\\\41\\cache.db')\n"
   ]
  },
  {
   "cell_type": "code",
   "execution_count": 9,
   "metadata": {},
   "outputs": [
    {
     "name": "stdout",
     "output_type": "stream",
     "text": [
      "       name\n",
      "0  Settings\n",
      "1     Cache\n"
     ]
    }
   ],
   "source": [
    "# This will list all tables in the database\n",
    "query = \"SELECT name FROM sqlite_master WHERE type='table';\"\n",
    "tables = pd.read_sql_query(query, conn)\n",
    "print(tables)\n"
   ]
  },
  {
   "cell_type": "code",
   "execution_count": 11,
   "metadata": {},
   "outputs": [
    {
     "name": "stdout",
     "output_type": "stream",
     "text": [
      "   rowid                                                key  raw  \\\n",
      "0      1  {\"messages\": [{\"content\": \"Your team is suited...    1   \n",
      "1      2  {\"messages\": [{\"content\": \"You are in a role p...    1   \n",
      "2      3  {\"messages\": [{\"content\": \"You are in a role p...    1   \n",
      "3      4  {\"messages\": [{\"content\": \"Partitions database...    1   \n",
      "4      5  {\"messages\": [{\"content\": \"You are in a role p...    1   \n",
      "\n",
      "     store_time expire_time   access_time  access_count   tag  size  mode  \\\n",
      "0  1.706092e+09        None  1.706092e+09             0  None     0     4   \n",
      "1  1.706092e+09        None  1.706092e+09             0  None     0     4   \n",
      "2  1.706092e+09        None  1.706092e+09             0  None     0     4   \n",
      "3  1.706092e+09        None  1.706092e+09             0  None     0     4   \n",
      "4  1.706092e+09        None  1.706092e+09             0  None     0     4   \n",
      "\n",
      "  filename                                              value  \n",
      "0     None  b'\\x80\\x05\\x95T\\x19\\x00\\x00\\x00\\x00\\x00\\x00\\x8...  \n",
      "1     None  b'\\x80\\x05\\x95\\x15\\x03\\x00\\x00\\x00\\x00\\x00\\x00...  \n",
      "2     None  b'\\x80\\x05\\x95\\x15\\x03\\x00\\x00\\x00\\x00\\x00\\x00...  \n",
      "3     None  b\"\\x80\\x05\\x95z\\x10\\x00\\x00\\x00\\x00\\x00\\x00\\x8...  \n",
      "4     None  b'\\x80\\x05\\x95\\x0e\\x03\\x00\\x00\\x00\\x00\\x00\\x00...  \n",
      "            rowid    raw    store_time   access_time  access_count   size  \\\n",
      "count  413.000000  413.0  4.130000e+02  4.130000e+02         413.0  413.0   \n",
      "mean   207.000000    1.0  1.706671e+09  1.706671e+09           0.0    0.0   \n",
      "std    119.367081    0.0  1.350859e+05  1.350859e+05           0.0    0.0   \n",
      "min      1.000000    1.0  1.706092e+09  1.706092e+09           0.0    0.0   \n",
      "25%    104.000000    1.0  1.706709e+09  1.706709e+09           0.0    0.0   \n",
      "50%    207.000000    1.0  1.706714e+09  1.706714e+09           0.0    0.0   \n",
      "75%    310.000000    1.0  1.706717e+09  1.706717e+09           0.0    0.0   \n",
      "max    413.000000    1.0  1.706718e+09  1.706718e+09           0.0    0.0   \n",
      "\n",
      "        mode  \n",
      "count  413.0  \n",
      "mean     4.0  \n",
      "std      0.0  \n",
      "min      4.0  \n",
      "25%      4.0  \n",
      "50%      4.0  \n",
      "75%      4.0  \n",
      "max      4.0  \n"
     ]
    }
   ],
   "source": [
    "query = \"SELECT * FROM Cache;\"\n",
    "df = pd.read_sql_query(query, conn)\n",
    "print(df.head())\n",
    "print(df.describe())\n",
    "\n"
   ]
  },
  {
   "cell_type": "code",
   "execution_count": 12,
   "metadata": {},
   "outputs": [
    {
     "name": "stdout",
     "output_type": "stream",
     "text": [
      "{\"messages\": [{\"content\": \"\\n You\\u00b4re a task delegator for implementing a springboot project. You adhere to the following phases: \\n\\n 1. Retrieve the next entity to be implemented using the respecive function call (AssistantAgent)\\n 2. Create the folder and file structure for the entity, inside the Spring project in the correct location. Therefore you must identify the correct location where to generate the folders.(AssistantAgent)\\n 3. Task the entity_coder to implement the [Entity].java file. (Entity_coder_agent)\\n 4. Task the repository_coder  to implement the [Entity]Repository.java file. (Repository_coder_agent)\\n\\n When a phase should be outsourced to a different agent, use the respective function call.\\n When you have completed all phases, restart the process.\\n When the get_requirements function returns \\\"TERMINATE\\\", end the session with \\\"TERMINATE\\\".\\n When there are no further instructions write \\\"TERMINATE\\\".\\n\", \"role\": \"system\"}, {\"content\": \"Create the next Entity\", \"role\": \"user\"}, {\"content\": null, \"role\": \"assistant\", \"tool_calls\": [{\"function\": {\"arguments\": \"{}\", \"name\": \"get_entity_and_requirements\"}, \"id\": \"call_o8ZztnUya2fhEzu1yDP3u6ej\", \"type\": \"function\"}]}, {\"content\": \"The entity to be implemented is Owner. Attributes: ['OwnerID (Primary Key)', 'Name', 'Contact Information'], Relationships: ['**Owner to Instructors**: One-to-Many. An owner can create and delete multiple instructors. This relationship should be unidirectional from Owner to Instructor without a corresponding `mappedBy` in the Instructor entity.', '**Owner to Courses**: One-to-Many. An owner can create and delete multiple courses. This relationship should be unidirectional from Owner to Course without a corresponding `mappedBy` in the Course entity.', '**Owner to Students**: One-to-Many. An owner can create and delete multiple students. This relationship should be unidirectional from Owner to Student without a corresponding `mappedBy` in the Student entity.']\", \"role\": \"tool\", \"tool_call_id\": \"call_o8ZztnUya2fhEzu1yDP3u6ej\"}, {\"content\": null, \"role\": \"assistant\", \"tool_calls\": [{\"function\": {\"arguments\": \"{}\", \"name\": \"list_directories\"}, \"id\": \"call_HdVUqQqXrPG1disOZEkHS06y\", \"type\": \"function\"}]}, {\"content\": \"./\\n    .gitignore\\n    agents.py\\n    autogen.ipynb\\n    configurations.json\\n    db_Schema.md\\n    HELP.md\\n    messages.py\\n    mvnw\\n    mvnw.cmd\\n    pom.xml\\n    .cache/\\n        41/\\n            cache.db\\n    .mvn/\\n        wrapper/\\n            maven-wrapper.jar\\n            maven-wrapper.properties\\n    src/\\n        main/\\n            java/\\n                com/\\n                    gabismvp/\\n                        GabismvpApplication.java\\n            resources/\\n                application.properties\\n                static/\\n                templates/\\n        test/\\n            java/\\n                com/\\n                    gabismvp/\\n                        GabisMvpApplicationTests.java\\n    target/\\n        classes/\\n            application.properties\\n            com/\\n                gabismvp/\\n                    GabismvpApplication.class\\n        generated-sources/\\n            annotations/\\n        generated-test-sources/\\n            test-annotations/\\n        maven-status/\\n            maven-compiler-plugin/\\n                compile/\\n                    default-compile/\\n                        createdFiles.lst\\n                        inputFiles.lst\\n        test-classes/\\n            com/\\n                gabismvp/\\n                    GabismvpApplicationTests.class\\n    __pycache__/\\n        agents.cpython-311.pyc\\n        messages.cpython-311.pyc\\n\", \"role\": \"tool\", \"tool_call_id\": \"call_HdVUqQqXrPG1disOZEkHS06y\"}, {\"content\": null, \"role\": \"assistant\", \"tool_calls\": [{\"function\": {\"arguments\": \"{\\\"entity_name\\\":\\\"Owner\\\",\\\"base_path\\\":\\\"./src/main/java/com/gabismvp\\\"}\", \"name\": \"create_blueprint_spring_component\"}, \"id\": \"call_gDLulVpjjUGEQXfjpoYVza3I\", \"type\": \"function\"}]}, {\"content\": \"The folders and files have been created successfully.\", \"role\": \"tool\", \"tool_call_id\": \"call_gDLulVpjjUGEQXfjpoYVza3I\"}, {\"content\": null, \"role\": \"assistant\", \"tool_calls\": [{\"function\": {\"arguments\": \"{\\\"phase_num\\\":3,\\\"agent_name\\\":\\\"Entity_coder_agent\\\",\\\"task_description\\\":\\\"Implement the Owner.java file with the following attributes: ['OwnerID (Primary Key)', 'Name', 'Contact Information'], and relationships: ['Owner to Instructors: One-to-Many', 'Owner to Courses: One-to-Many', 'Owner to Students: One-to-Many'].\\\"}\", \"name\": \"launch_phase\"}, \"id\": \"call_Mqj1hGbObRQASItaYcX9Gzel\", \"type\": \"function\"}]}, {\"content\": \"Error: The agent 'Entity_coder_agent' does not exist. You can choose from the names entity_coder and repository_coder.\", \"role\": \"tool\", \"tool_call_id\": \"call_Mqj1hGbObRQASItaYcX9Gzel\"}, {\"content\": null, \"role\": \"assistant\", \"tool_calls\": [{\"function\": {\"arguments\": \"{\\\"phase_num\\\":3,\\\"agent_name\\\":\\\"entity_coder\\\",\\\"task_description\\\":\\\"Implement the Owner.java file with the following attributes: ['OwnerID (Primary Key)', 'Name', 'Contact Information'], and relationships: ['Owner to Instructors: One-to-Many', 'Owner to Courses: One-to-Many', 'Owner to Students: One-to-Many'].\\\"}\", \"name\": \"launch_phase\"}, \"id\": \"call_G48CcqMHheh8eZWqaqIxfBK7\", \"type\": \"function\"}]}, {\"content\": \"Phase 3 has been executed successfully, proceed with the next phase.\", \"role\": \"tool\", \"tool_call_id\": \"call_G48CcqMHheh8eZWqaqIxfBK7\"}, {\"content\": null, \"role\": \"assistant\", \"tool_calls\": [{\"function\": {\"arguments\": \"{\\\"phase_num\\\":4,\\\"agent_name\\\":\\\"repository_coder\\\",\\\"task_description\\\":\\\"Implement the OwnerRepository.java file for the Owner entity with standard CRUD operations.\\\"}\", \"name\": \"launch_phase\"}, \"id\": \"call_HSqq1vHUaqC5IyIZyD7Z8lga\", \"type\": \"function\"}]}, {\"content\": \"Phase 4 has been executed successfully, proceed with the next phase.\", \"role\": \"tool\", \"tool_call_id\": \"call_HSqq1vHUaqC5IyIZyD7Z8lga\"}, {\"content\": null, \"role\": \"assistant\", \"tool_calls\": [{\"function\": {\"arguments\": \"{}\", \"name\": \"get_entity_and_requirements\"}, \"id\": \"call_NtWqQgSe3eJbzNt8OOEFgkBq\", \"type\": \"function\"}]}, {\"content\": \"The entity to be implemented is Instructor. Attributes: ['InstructorID (Primary Key)', 'Name', 'Email', 'Specialty'], Relationships: ['**Instructor to Courses**: One-to-Many. An instructor must teach one or more courses. The `Course` entity should contain a `mappedBy` attribute pointing back to the `Instructor`.', '**Instructor to Students (Indirect through Courses)**: Many-to-Many. An instructor can view all students in the courses they teach, indirectly through the courses. This relationship is managed via the Course entity and does not require direct mapping in the Instructor entity.', '**Instructor to Owner**: Many-to-One. Each instructor is created by an owner. The `Instructor` entity should use `@JoinColumn` to reference the `Owner`.']\", \"role\": \"tool\", \"tool_call_id\": \"call_NtWqQgSe3eJbzNt8OOEFgkBq\"}, {\"content\": null, \"role\": \"assistant\", \"tool_calls\": [{\"function\": {\"arguments\": \"{}\", \"name\": \"list_directories\"}, \"id\": \"call_9aYLeedKodpy0Vx9eJ9nOVr0\", \"type\": \"function\"}, {\"function\": {\"arguments\": \"{\\\"entity_name\\\": \\\"Instructor\\\", \\\"base_path\\\": \\\"./src/main/java/com/gabismvp\\\"}\", \"name\": \"create_blueprint_spring_component\"}, \"id\": \"call_BwQCaBpSBu8whDgbGMFMRdML\", \"type\": \"function\"}]}, {\"content\": \"./\\n    .gitignore\\n    agents.py\\n    autogen.ipynb\\n    configurations.json\\n    db_Schema.md\\n    HELP.md\\n    messages.py\\n    mvnw\\n    mvnw.cmd\\n    pom.xml\\n    .cache/\\n        41/\\n            cache.db\\n    .mvn/\\n        wrapper/\\n            maven-wrapper.jar\\n            maven-wrapper.properties\\n    src/\\n        main/\\n            java/\\n                com/\\n                    gabismvp/\\n                        GabismvpApplication.java\\n                        Owner/\\n                            domain/\\n                                Owner.java\\n                                OwnerRepository.java\\n                            logic/\\n                                OwnerLogic.java\\n                            service/\\n                                OwnerService.java\\n            resources/\\n                application.properties\\n                static/\\n                templates/\\n        test/\\n            java/\\n                com/\\n                    gabismvp/\\n                        GabisMvpApplicationTests.java\\n    target/\\n        classes/\\n            application.properties\\n            com/\\n                gabismvp/\\n                    GabismvpApplication.class\\n                    Owner/\\n                        domain/\\n                            Owner.class\\n                            OwnerRepository.class\\n                        logic/\\n                        service/\\n        generated-sources/\\n            annotations/\\n        generated-test-sources/\\n            test-annotations/\\n        maven-status/\\n            maven-compiler-plugin/\\n                compile/\\n                    default-compile/\\n                        createdFiles.lst\\n                        inputFiles.lst\\n        test-classes/\\n            com/\\n                gabismvp/\\n                    GabismvpApplicationTests.class\\n    __pycache__/\\n        agents.cpython-311.pyc\\n        messages.cpython-311.pyc\\n\", \"role\": \"tool\", \"tool_call_id\": \"call_9aYLeedKodpy0Vx9eJ9nOVr0\"}, {\"content\": \"The folders and files have been created successfully.\", \"role\": \"tool\", \"tool_call_id\": \"call_BwQCaBpSBu8whDgbGMFMRdML\"}, {\"content\": null, \"role\": \"assistant\", \"tool_calls\": [{\"function\": {\"arguments\": \"{\\\"phase_num\\\":3,\\\"agent_name\\\":\\\"entity_coder\\\",\\\"task_description\\\":\\\"Implement the Instructor.java file with the following attributes: ['InstructorID (Primary Key)', 'Name', 'Email', 'Specialty'], and relationships: ['Instructor to Courses: One-to-Many', 'Instructor to Students (Indirect through Courses): Many-to-Many', 'Instructor to Owner: Many-to-One'].\\\"}\", \"name\": \"launch_phase\"}, \"id\": \"call_UidY7tzLiGrhmZuzqJUelb6S\", \"type\": \"function\"}]}, {\"content\": \"Phase 3 has been executed successfully, proceed with the next phase.\", \"role\": \"tool\", \"tool_call_id\": \"call_UidY7tzLiGrhmZuzqJUelb6S\"}, {\"content\": null, \"role\": \"assistant\", \"tool_calls\": [{\"function\": {\"arguments\": \"{\\\"phase_num\\\":4,\\\"agent_name\\\":\\\"repository_coder\\\",\\\"task_description\\\":\\\"Implement the InstructorRepository.java file for the Instructor entity with standard CRUD operations.\\\"}\", \"name\": \"launch_phase\"}, \"id\": \"call_Lh5h6kOMW7rEKgMTxGeK7Ur2\", \"type\": \"function\"}]}, {\"content\": \"Phase 4 has been executed successfully, proceed with the next phase.\", \"role\": \"tool\", \"tool_call_id\": \"call_Lh5h6kOMW7rEKgMTxGeK7Ur2\"}, {\"content\": null, \"role\": \"assistant\", \"tool_calls\": [{\"function\": {\"arguments\": \"{}\", \"name\": \"get_entity_and_requirements\"}, \"id\": \"call_LpbsyfXDJzhj7IyORbTZUekA\", \"type\": \"function\"}]}, {\"content\": \"The entity to be implemented is Course. Attributes: ['CourseID (Primary Key)', 'Title', 'Description', 'Time', 'Place', 'Level (Beginner, Intermediate, Advanced)', 'Fee', 'InstructorID (Foreign Key)'], Relationships: ['**Course to Owner**: Many-to-One. Each course is created and can be deleted by an owner. The `Course` entity should use `@JoinColumn` to reference the `Owner`.', '**Course to Instructor**: Many-to-One. Each course is taught by exactly one instructor. The `Course` entity should use `@JoinColumn` to reference the `Instructor`.', '**Courses to Students**: Many-to-Many. A course can have many students, and a student can enroll in many courses. This relationship should be managed via a junction table (e.g., Course_Student), with the `Course` entity containing a `@ManyToMany` annotation and using `@JoinTable` to define the relationship.']\", \"role\": \"tool\", \"tool_call_id\": \"call_LpbsyfXDJzhj7IyORbTZUekA\"}, {\"content\": null, \"role\": \"assistant\", \"tool_calls\": [{\"function\": {\"arguments\": \"{}\", \"name\": \"list_directories\"}, \"id\": \"call_LAi30KrAcW6dKVJtm8aN7pcg\", \"type\": \"function\"}, {\"function\": {\"arguments\": \"{\\\"entity_name\\\": \\\"Course\\\", \\\"base_path\\\": \\\"./src/main/java/com/gabismvp\\\"}\", \"name\": \"create_blueprint_spring_component\"}, \"id\": \"call_ftFaYpEu0VtNhlgBnTrcj4BO\", \"type\": \"function\"}]}, {\"content\": \"./\\n    .gitignore\\n    agents.py\\n    autogen.ipynb\\n    configurations.json\\n    db_Schema.md\\n    HELP.md\\n    messages.py\\n    mvnw\\n    mvnw.cmd\\n    pom.xml\\n    .cache/\\n        41/\\n            cache.db\\n    .mvn/\\n        wrapper/\\n            maven-wrapper.jar\\n            maven-wrapper.properties\\n    src/\\n        main/\\n            java/\\n                com/\\n                    gabismvp/\\n                        GabismvpApplication.java\\n                        Instructor/\\n                            domain/\\n                                Instructor.java\\n                                InstructorRepository.java\\n                            logic/\\n                                InstructorLogic.java\\n                            service/\\n                                InstructorService.java\\n                        Owner/\\n                            domain/\\n                                Owner.java\\n                                OwnerRepository.java\\n                            logic/\\n                                OwnerLogic.java\\n                            service/\\n                                OwnerService.java\\n            resources/\\n                application.properties\\n                static/\\n                templates/\\n        test/\\n            java/\\n                com/\\n                    gabismvp/\\n                        GabisMvpApplicationTests.java\\n    target/\\n        classes/\\n            application.properties\\n            com/\\n                gabismvp/\\n                    GabismvpApplication.class\\n                    Instructor/\\n                        domain/\\n                            Instructor.class\\n                            InstructorRepository.class\\n                        logic/\\n                        service/\\n                    Owner/\\n                        domain/\\n                            Owner.class\\n                            OwnerRepository.class\\n                        logic/\\n                        service/\\n        generated-sources/\\n            annotations/\\n        generated-test-sources/\\n            test-annotations/\\n        maven-status/\\n            maven-compiler-plugin/\\n                compile/\\n                    default-compile/\\n                        createdFiles.lst\\n                        inputFiles.lst\\n        test-classes/\\n            com/\\n                gabismvp/\\n                    GabismvpApplicationTests.class\\n    __pycache__/\\n        agents.cpython-311.pyc\\n        messages.cpython-311.pyc\\n\", \"role\": \"tool\", \"tool_call_id\": \"call_LAi30KrAcW6dKVJtm8aN7pcg\"}, {\"content\": \"The folders and files have been created successfully.\", \"role\": \"tool\", \"tool_call_id\": \"call_ftFaYpEu0VtNhlgBnTrcj4BO\"}, {\"content\": null, \"role\": \"assistant\", \"tool_calls\": [{\"function\": {\"arguments\": \"{\\\"phase_num\\\":3,\\\"agent_name\\\":\\\"entity_coder\\\",\\\"task_description\\\":\\\"Implement the Course.java file with the following attributes: ['CourseID (Primary Key)', 'Title', 'Description', 'Time', 'Place', 'Level (Beginner, Intermediate, Advanced)', 'Fee', 'InstructorID (Foreign Key)'], and relationships: ['Course to Owner: Many-to-One', 'Course to Instructor: Many-to-One', 'Courses to Students: Many-to-Many'].\\\"}\", \"name\": \"launch_phase\"}, \"id\": \"call_Ak5b3hi2j4FLghZoDCHestwq\", \"type\": \"function\"}]}, {\"content\": \"Phase 3 has been executed successfully, proceed with the next phase.\", \"role\": \"tool\", \"tool_call_id\": \"call_Ak5b3hi2j4FLghZoDCHestwq\"}, {\"content\": null, \"role\": \"assistant\", \"tool_calls\": [{\"function\": {\"arguments\": \"{\\\"phase_num\\\":4,\\\"agent_name\\\":\\\"repository_coder\\\",\\\"task_description\\\":\\\"Implement the CourseRepository.java file for the Course entity with standard CRUD operations.\\\"}\", \"name\": \"launch_phase\"}, \"id\": \"call_CJoaHAoSaiHITJFrSmF8RujV\", \"type\": \"function\"}]}, {\"content\": \"Phase 4 has been executed successfully, proceed with the next phase.\", \"role\": \"tool\", \"tool_call_id\": \"call_CJoaHAoSaiHITJFrSmF8RujV\"}, {\"content\": null, \"role\": \"assistant\", \"tool_calls\": [{\"function\": {\"arguments\": \"{}\", \"name\": \"get_entity_and_requirements\"}, \"id\": \"call_3UHnc3HjRTf48qiiEOn0K3qQ\", \"type\": \"function\"}]}, {\"content\": \"The entity to be implemented is Student. Attributes: ['StudentID (Primary Key)', 'Name', 'Address', 'Email', 'Skill Level (e.g., Beginner, Intermediate, Advanced)'], Relationships: ['**Students to Owner**: Many-to-One. Each student can be created and possibly deleted by an owner. The `Student` entity should use `@JoinColumn` to reference the `Owner`.', '**Students to Courses**: Many-to-Many. A student can enroll in many courses, and a course can have many students. This relationship should be managed via a junction table (e.g., Course_Student), with the `Student` entity containing a `@ManyToMany` annotation and using `@JoinTable` to define the relationship.', '**Students to Instructors (Indirect through Courses)**: Many-to-Many. A student can be indirectly linked to multiple instructors through the courses they are enrolled in. This relationship is managed via the Course entity and does not require direct mapping in the Student entity.']\", \"role\": \"tool\", \"tool_call_id\": \"call_3UHnc3HjRTf48qiiEOn0K3qQ\"}, {\"content\": null, \"role\": \"assistant\", \"tool_calls\": [{\"function\": {\"arguments\": \"{}\", \"name\": \"list_directories\"}, \"id\": \"call_kumUYgkOnYlI1gi7GpWKrZ2L\", \"type\": \"function\"}, {\"function\": {\"arguments\": \"{\\\"entity_name\\\": \\\"Student\\\", \\\"base_path\\\": \\\"./src/main/java/com/gabismvp\\\"}\", \"name\": \"create_blueprint_spring_component\"}, \"id\": \"call_i5qVmFB7rnZECN8OBZGnnmen\", \"type\": \"function\"}]}, {\"content\": \"./\\n    .gitignore\\n    agents.py\\n    autogen.ipynb\\n    configurations.json\\n    db_Schema.md\\n    HELP.md\\n    messages.py\\n    mvnw\\n    mvnw.cmd\\n    pom.xml\\n    .cache/\\n        41/\\n            cache.db\\n    .mvn/\\n        wrapper/\\n            maven-wrapper.jar\\n            maven-wrapper.properties\\n    src/\\n        main/\\n            java/\\n                com/\\n                    gabismvp/\\n                        GabismvpApplication.java\\n                        Course/\\n                            domain/\\n                                Course.java\\n                                CourseRepository.java\\n                            logic/\\n                                CourseLogic.java\\n                            service/\\n                                CourseService.java\\n                        Instructor/\\n                            domain/\\n                                Instructor.java\\n                                InstructorRepository.java\\n                            logic/\\n                                InstructorLogic.java\\n                            service/\\n                                InstructorService.java\\n                        Owner/\\n                            domain/\\n                                Owner.java\\n                                OwnerRepository.java\\n                            logic/\\n                                OwnerLogic.java\\n                            service/\\n                                OwnerService.java\\n            resources/\\n                application.properties\\n                static/\\n                templates/\\n        test/\\n            java/\\n                com/\\n                    gabismvp/\\n                        GabisMvpApplicationTests.java\\n    target/\\n        classes/\\n            application.properties\\n            com/\\n                gabismvp/\\n                    GabismvpApplication.class\\n                    Course/\\n                        domain/\\n                            Course$Level.class\\n                            Course.class\\n                            CourseRepository.class\\n                        logic/\\n                        service/\\n                    Instructor/\\n                        domain/\\n                            Instructor.class\\n                            InstructorRepository.class\\n                        logic/\\n                        service/\\n                    Owner/\\n                        domain/\\n                            Owner.class\\n                            OwnerRepository.class\\n                        logic/\\n                        service/\\n        generated-sources/\\n            annotations/\\n        generated-test-sources/\\n            test-annotations/\\n        maven-status/\\n            maven-compiler-plugin/\\n                compile/\\n                    default-compile/\\n                        createdFiles.lst\\n                        inputFiles.lst\\n        test-classes/\\n            com/\\n                gabismvp/\\n                    GabismvpApplicationTests.class\\n    __pycache__/\\n        agents.cpython-311.pyc\\n        messages.cpython-311.pyc\\n\", \"role\": \"tool\", \"tool_call_id\": \"call_kumUYgkOnYlI1gi7GpWKrZ2L\"}, {\"content\": \"The folders and files have been created successfully.\", \"role\": \"tool\", \"tool_call_id\": \"call_i5qVmFB7rnZECN8OBZGnnmen\"}, {\"content\": null, \"role\": \"assistant\", \"tool_calls\": [{\"function\": {\"arguments\": \"{\\\"phase_num\\\":3,\\\"agent_name\\\":\\\"entity_coder\\\",\\\"task_description\\\":\\\"Implement the Student.java file with the following attributes: ['StudentID (Primary Key)', 'Name', 'Address', 'Email', 'Skill Level (e.g., Beginner, Intermediate, Advanced)'], and relationships: ['Students to Owner: Many-to-One', 'Students to Courses: Many-to-Many', 'Students to Instructors (Indirect through Courses): Many-to-Many'].\\\"}\", \"name\": \"launch_phase\"}, \"id\": \"call_3UHnc3HjRTf48qiiEOn0K3qQ\", \"type\": \"function\"}]}, {\"content\": \"Phase 3 has been executed successfully, proceed with the next phase.\", \"role\": \"tool\", \"tool_call_id\": \"call_3UHnc3HjRTf48qiiEOn0K3qQ\"}, {\"content\": null, \"role\": \"assistant\", \"tool_calls\": [{\"function\": {\"arguments\": \"{\\\"phase_num\\\":4,\\\"agent_name\\\":\\\"repository_coder\\\",\\\"task_description\\\":\\\"Implement the StudentRepository.java file for the Student entity with standard CRUD operations.\\\"}\", \"name\": \"launch_phase\"}, \"id\": \"call_9daXKhpSToR8bShEURHxMqzd\", \"type\": \"function\"}]}, {\"content\": \"Phase 4 has been executed successfully, proceed with the next phase.\", \"role\": \"tool\", \"tool_call_id\": \"call_9daXKhpSToR8bShEURHxMqzd\"}, {\"content\": null, \"role\": \"assistant\", \"tool_calls\": [{\"function\": {\"arguments\": \"{}\", \"name\": \"get_entity_and_requirements\"}, \"id\": \"call_d8jp1SS1IdyCn0HqjQ83gAuq\", \"type\": \"function\"}]}, {\"content\": \"null\", \"role\": \"tool\", \"tool_call_id\": \"call_d8jp1SS1IdyCn0HqjQ83gAuq\"}], \"model\": \"gpt-4-1106-preview\", \"tools\": [{\"function\": {\"description\": \"Imitates the tree command of cmd, allows to infer the path of a file or folder.\", \"name\": \"list_directories\", \"parameters\": {\"properties\": {}, \"required\": [], \"type\": \"object\"}}, \"type\": \"function\"}, {\"function\": {\"description\": \"ONLY Creates folder and filestructure according to devonfw, does not implement the files. \", \"name\": \"create_blueprint_spring_component\", \"parameters\": {\"properties\": {\"base_path\": {\"description\": \"base_path\", \"type\": \"string\"}, \"entity_name\": {\"description\": \"Name of Entity to be implemented\", \"type\": \"string\"}}, \"required\": [\"entity_name\", \"base_path\"], \"type\": \"object\"}}, \"type\": \"function\"}, {\"function\": {\"description\": \"Retrieves the content of a file as a string.\", \"name\": \"read_file\", \"parameters\": {\"properties\": {\"location_of_file\": {\"description\": \"Complete path to folder where file is located, including the filename\", \"type\": \"string\"}}, \"required\": [\"location_of_file\"], \"type\": \"object\"}}, \"type\": \"function\"}, {\"function\": {\"description\": \"Retrieves the entity to be implemented and all relevant requirements out of the db_schema.md file.\", \"name\": \"get_entity_and_requirements\", \"parameters\": {\"properties\": {}, \"required\": [], \"type\": \"object\"}}, \"type\": \"function\"}, {\"function\": {\"description\": \"Outsources a phase to another agent by launching the desired agent with a task description.\", \"name\": \"launch_phase\", \"parameters\": {\"properties\": {\"agent_name\": {\"description\": \"Name of Agent that should be launched\", \"type\": \"string\"}, \"phase_num\": {\"description\": \"number of phase\", \"type\": \"integer\"}, \"task_description\": {\"description\": \"task description\", \"type\": \"string\"}}, \"required\": [\"phase_num\", \"agent_name\", \"task_description\"], \"type\": \"object\"}}, \"type\": \"function\"}]}\n"
     ]
    }
   ],
   "source": [
    "#Read complete key from last row of df\n",
    "key = df.iloc[-1]['key']\n",
    "print(key)"
   ]
  },
  {
   "cell_type": "code",
   "execution_count": null,
   "metadata": {},
   "outputs": [],
   "source": [
    "\n",
    "import autogen\n",
    "from autogen import Cache\n",
    "\n"
   ]
  }
 ],
 "metadata": {
  "kernelspec": {
   "display_name": "Python 3",
   "language": "python",
   "name": "python3"
  },
  "language_info": {
   "codemirror_mode": {
    "name": "ipython",
    "version": 3
   },
   "file_extension": ".py",
   "mimetype": "text/x-python",
   "name": "python",
   "nbconvert_exporter": "python",
   "pygments_lexer": "ipython3",
   "version": "3.11.7"
  }
 },
 "nbformat": 4,
 "nbformat_minor": 2
}
